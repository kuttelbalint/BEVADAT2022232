{
 "cells": [
  {
   "cell_type": "code",
   "execution_count": 1,
   "metadata": {},
   "outputs": [],
   "source": [
    "import numpy as np\n",
    "import datetime"
   ]
  },
  {
   "cell_type": "code",
   "execution_count": null,
   "metadata": {},
   "outputs": [],
   "source": [
    "#FONTOS!!!\n",
    "\n",
    "# CSAK OTT LEHET HASZNÁLNI FOR LOOP-OT AHOL A FELADAT KÜLÖN KÉRI!\n",
    "# [1,2,3,4] --> ezek az értékek np.array-ek. Ahol listát kérek paraméterként ott külön ki fogom emelni!\n",
    "# Ha végeztél a feladatokkal, akkor notebook-ot alakítsd át .py.\n",
    "# A FÁJLBAN CSAK A FÜGGVÉNYEK LEGYENEK! (KOMMENTEK MARADHATNAK)"
   ]
  },
  {
   "cell_type": "code",
   "execution_count": 2,
   "metadata": {},
   "outputs": [
    {
     "name": "stdout",
     "output_type": "stream",
     "text": [
      "[[2 1]\n",
      " [4 3]]\n"
     ]
    }
   ],
   "source": [
    "# Írj egy olyan fügvényt, ami megfordítja egy 2d array oszlopait. Bemenetként egy array-t vár.\n",
    "# Be: [[1,2],[3,4]]\n",
    "# Ki: [[2,1],[4,3]]\n",
    "# column_swap()\n",
    "\n",
    "def column_swap(arr):\n",
    "    arr[:, [0,1]] = arr[:, [1,0]]\n",
    "    return arr\n",
    "\n",
    "arr = np.array([[1,2], [3,4]])\n",
    "\n",
    "print(column_swap(arr))"
   ]
  },
  {
   "cell_type": "code",
   "execution_count": 12,
   "metadata": {},
   "outputs": [
    {
     "name": "stdout",
     "output_type": "stream",
     "text": [
      "[1 3]\n"
     ]
    }
   ],
   "source": [
    "# Készíts egy olyan függvényt ami összehasonlít két array-t és adjon vissza egy array-ben, hogy hol egyenlőek \n",
    "# Pl Be: [7,8,9], [9,8,7] \n",
    "# Ki: [1]\n",
    "# compare_two_array()\n",
    "# egyenlő elemszámúakra kell csak hogy működjön\n",
    "\n",
    "def compare_two_array(arr1, arr2):\n",
    "    equal_indices = np.where(arr1 == arr2)[0]\n",
    "    return equal_indices"
   ]
  },
  {
   "cell_type": "code",
   "execution_count": 15,
   "metadata": {},
   "outputs": [
    {
     "name": "stdout",
     "output_type": "stream",
     "text": [
      "sor: 2, oszlop: 3, melyseg: 1\n"
     ]
    }
   ],
   "source": [
    "# Készíts egy olyan függvényt, ami vissza adja string-ként a megadott array dimenzióit:\n",
    "# Be: [[1,2,3], [4,5,6]]\n",
    "# Ki: \"sor: 2, oszlop: 3, melyseg: 1\"\n",
    "# get_array_shape()\n",
    "# 3D-vel még műküdnie kell!, \n",
    "\n",
    "def get_array_shape(arr):\n",
    "    shape = arr.shape\n",
    "    rank = arr.ndim\n",
    "    depth = 1\n",
    "    if rank == 3:\n",
    "        depth = shape[2]\n",
    "\n",
    "    return \"sor: \" + str(shape[0]) + \", oszlop: \" + str(shape[1]) + \", melyseg: \" + str(depth)"
   ]
  },
  {
   "cell_type": "code",
   "execution_count": 19,
   "metadata": {},
   "outputs": [
    {
     "name": "stdout",
     "output_type": "stream",
     "text": [
      "[[0 1 0 0]\n",
      " [0 0 1 0]\n",
      " [1 0 0 0]\n",
      " [0 0 0 1]]\n"
     ]
    }
   ],
   "source": [
    "# Készíts egy olyan függvényt, aminek segítségével elő tudod állítani egy neurális hálózat tanításához szükséges pred-et egy numpy array-ből. \n",
    "# Bementként add meg az array-t, illetve hogy mennyi class-od van. Kimenetként pedig adjon vissza egy 2d array-t, ahol a sorok az egyes elemek. Minden nullákkal teli legyen és csak ott álljon egyes, ahol a bementi tömb megjelöli. \n",
    "# Pl. ha 1 van a bemeneten és 4 classod van, akkor az adott sorban az array-ban a [1] helyen álljon egy 1-es, a többi helyen pedig 0.\n",
    "# Be: [1, 2, 0, 3], 4\n",
    "# Ki: [[0,1,0,0], [0, 0, 1, 0], [1, 0, 0, 0], [0, 0, 0, 1]]\n",
    "# encode_Y()\n",
    "\n",
    "def encode_Y(input_array, num_rows):\n",
    "    output_array = np.zeros((num_rows, num_rows), dtype=int)\n",
    "    row_indices = np.arange(num_rows)\n",
    "    output_array[row_indices, input_array] = 1\n",
    "    return output_array"
   ]
  },
  {
   "cell_type": "code",
   "execution_count": 24,
   "metadata": {},
   "outputs": [
    {
     "name": "stdout",
     "output_type": "stream",
     "text": [
      "[1 2 0 3]\n"
     ]
    }
   ],
   "source": [
    "# A fenti feladatnak valósítsd meg a kiértékelését. Adj meg a 2d array-t és adj vissza a decodolt változatát\n",
    "# Be:  [[0,1,0,0], [0, 0, 1, 0], [1, 0, 0, 0], [0, 0, 0, 1]]\n",
    "# Ki:  [1, 2, 0, 3]\n",
    "# decode_Y()\n",
    "\n",
    "\n",
    "\n",
    "def decode_Y(output_array):\n",
    "    num_rows, num_cols = output_array.shape\n",
    "    row_indices = np.arange(num_rows)\n",
    "    col_indices = np.argmax(output_array, axis=1)\n",
    "    decoded_array = col_indices[row_indices]\n",
    "    return np.array(decoded_array)"
   ]
  },
  {
   "cell_type": "code",
   "execution_count": 25,
   "metadata": {},
   "outputs": [
    {
     "name": "stdout",
     "output_type": "stream",
     "text": [
      "szilva\n"
     ]
    }
   ],
   "source": [
    "# Készíts egy olyan függvényt, ami képes kiértékelni egy neurális háló eredményét! Bemenetként egy listát és egy array-t és adja vissza azt az elemet, aminek a legnagyobb a valószínüsége(értéke) a listából.\n",
    "# Be: ['alma', 'körte', 'szilva'], [0.2, 0.2, 0.6]. # Az ['alma', 'körte', 'szilva'] egy lista!\n",
    "# Ki: 'szilva'\n",
    "# eval_classification()\n",
    "\n",
    "def eval_classification(list_, arr):\n",
    "    max_probability = np.argmax(arr)\n",
    "    return list_[max_probability]"
   ]
  },
  {
   "cell_type": "code",
   "execution_count": null,
   "metadata": {},
   "outputs": [],
   "source": [
    "# Készíts egy olyan függvényt, ahol az 1D array-ben a páratlan számokat -1-re cseréli\n",
    "# Be: [1,2,3,4,5,6]\n",
    "# Ki: [-1,2,-1,4,-1,6]\n",
    "# replace_odd_numbers()\n",
    "\n",
    "def replace_odd_numbers(arr):\n",
    "    arr[arr % 2 != 0] = -1\n",
    "    return arr"
   ]
  },
  {
   "cell_type": "code",
   "execution_count": 26,
   "metadata": {},
   "outputs": [
    {
     "name": "stdout",
     "output_type": "stream",
     "text": [
      "[-1  1  1 -1]\n"
     ]
    }
   ],
   "source": [
    "# Készíts egy olyan függvényt, ami egy array értékeit -1 és 1-re változtatja, attól függően, hogy az adott elem nagyobb vagy kisebb a paraméterként megadott számnál.\n",
    "# Ha a szám kisebb mint a megadott érték, akkor -1, ha nagyobb vagy egyenlő, akkor pedig 1.\n",
    "# Be: [1, 2, 5, 0], 2\n",
    "# Ki: [-1, 1, 1, -1]\n",
    "# replace_by_value()\n",
    "\n",
    "def replace_by_value(arr, num):\n",
    "    outputArr = np.where(arr >= num, 1, -1)\n",
    "    return outputArr"
   ]
  },
  {
   "cell_type": "code",
   "execution_count": 27,
   "metadata": {},
   "outputs": [
    {
     "name": "stdout",
     "output_type": "stream",
     "text": [
      "24\n"
     ]
    }
   ],
   "source": [
    "# Készíts egy olyan függvényt, ami egy array értékeit összeszorozza és az eredményt visszaadja\n",
    "# Be: [1,2,3,4]\n",
    "# Ki: 24\n",
    "# array_multi()\n",
    "# Ha több dimenziós a tömb, akkor az egész tömb elemeinek szorzatával térjen vissza\n",
    "\n",
    "def array_multi(arr):\n",
    "    return np.prod(arr)"
   ]
  },
  {
   "cell_type": "code",
   "execution_count": 29,
   "metadata": {},
   "outputs": [
    {
     "name": "stdout",
     "output_type": "stream",
     "text": [
      "[ 2 12]\n"
     ]
    }
   ],
   "source": [
    "# Készíts egy olyan függvényt, ami egy 2D array értékeit összeszorozza és egy olyan array-el tér vissza, aminek az elemei a soroknak a szorzata\n",
    "# Be: [[1, 2], [3, 4]]\n",
    "# Ki: [2, 12]\n",
    "# array_multi_2d()\n",
    "\n",
    "def array_multi_2d(arr):\n",
    "    return np.prod(arr, axis=1)"
   ]
  },
  {
   "cell_type": "code",
   "execution_count": 30,
   "metadata": {},
   "outputs": [
    {
     "name": "stdout",
     "output_type": "stream",
     "text": [
      "[[0 0 0 0]\n",
      " [0 1 2 0]\n",
      " [0 3 4 0]\n",
      " [0 0 0 0]]\n"
     ]
    }
   ],
   "source": [
    "# Készíts egy olyan függvényt, amit egy meglévő numpy array-hez készít egy bordert nullásokkal. Bementként egy array-t várjon és kimenetként egy array jelenjen meg aminek van border-je\n",
    "# Be: [[1,2],[3,4]]\n",
    "# Ki: [[0,0,0,0],[0,1,2,0],[0,3,4,0],[0,0,0,0]]\n",
    "# add_border()\n",
    "\n",
    "def add_border(arr):\n",
    "    m, n = arr.shape\n",
    "    output = np.zeros((m+2, n+2), dtype=arr.dtype)\n",
    "    output[1:-1, 1:-1] = arr\n",
    "    return output"
   ]
  },
  {
   "cell_type": "code",
   "execution_count": null,
   "metadata": {},
   "outputs": [],
   "source": [
    "# A KÖTVETKEZŐ FELADATOKHOZ NÉZZÉTEK MEG A NUMPY DATA TYPE-JÁT!"
   ]
  },
  {
   "cell_type": "code",
   "execution_count": 33,
   "metadata": {},
   "outputs": [
    {
     "name": "stdout",
     "output_type": "stream",
     "text": [
      "['2023-03-01' '2023-03-02' '2023-03-03' '2023-03-04' '2023-03-05'\n",
      " '2023-03-06' '2023-03-07' '2023-03-08' '2023-03-09' '2023-03-10'\n",
      " '2023-03-11' '2023-03-12' '2023-03-13' '2023-03-14' '2023-03-15'\n",
      " '2023-03-16' '2023-03-17' '2023-03-18' '2023-03-19' '2023-03-20'\n",
      " '2023-03-21' '2023-03-22' '2023-03-23' '2023-03-24' '2023-03-25'\n",
      " '2023-03-26' '2023-03-27' '2023-03-28' '2023-03-29' '2023-03-30'\n",
      " '2023-03-31' '2023-04-01']\n"
     ]
    }
   ],
   "source": [
    "# Készíts egy olyan függvényt ami két dátum között felsorolja az összes napot és ezt adja vissza egy numpy array-ben. A fgv ként str vár paraméterként 'YYYY-MM' formában.\n",
    "# Be: '2023-03', '2023-04'  # mind a kettő paraméter str.\n",
    "# Ki: ['2023-03-01', '2023-03-02', .. , '2023-03-31',]\n",
    "# list_days()\n",
    "\n",
    "from datetime import datetime, timedelta\n",
    "\n",
    "def days_between(start_date, end_date):\n",
    "    start = datetime.strptime(start_date, '%Y-%m')\n",
    "    end = datetime.strptime(end_date, '%Y-%m')\n",
    "    num_days = (end - start).days + 1\n",
    "    date_array = np.arange(num_days, dtype='timedelta64[D]') + np.datetime64(start)\n",
    "    return np.datetime_as_string(date_array, unit='D')\n"
   ]
  },
  {
   "cell_type": "code",
   "execution_count": 17,
   "metadata": {},
   "outputs": [
    {
     "name": "stdout",
     "output_type": "stream",
     "text": [
      "2023-03-12\n"
     ]
    }
   ],
   "source": [
    "# Írj egy fügvényt ami vissza adja az aktuális dátumot az alábbi formában: YYYY-MM-DD. Térjen vissza egy 'numpy.datetime64' típussal.\n",
    "# Be:\n",
    "# Ki: 2017-03-24\n",
    "# get_act_date()\n",
    "\n",
    "def get_act_date():\n",
    "    current_date = np.datetime64('today')\n",
    "    return current_date"
   ]
  },
  {
   "cell_type": "code",
   "execution_count": 4,
   "metadata": {},
   "outputs": [
    {
     "name": "stdout",
     "output_type": "stream",
     "text": [
      "<function sec_from_1970 at 0x000001E85EFA9120>\n"
     ]
    }
   ],
   "source": [
    "# Írj egy olyan függvényt ami visszadja, hogy mennyi másodperc telt el 1970 január 01. 00:02:00 óta. Int-el térjen vissza\n",
    "# Be: \n",
    "# Ki: másodpercben az idó, int-é kasztolva\n",
    "# sec_from_1970()\n",
    "\n",
    "def sec_from_1970():\n",
    "    converted_time = datetime.datetime(1970, 1, 1, 0, 2, 0)\n",
    "    current_time = datetime.datetime.now()\n",
    "    seconds_passed = (current_time - converted_time).total_seconds()\n",
    "    return int(seconds_passed)\n"
   ]
  }
 ],
 "metadata": {
  "kernelspec": {
   "display_name": "Python 3",
   "language": "python",
   "name": "python3"
  },
  "language_info": {
   "codemirror_mode": {
    "name": "ipython",
    "version": 3
   },
   "file_extension": ".py",
   "mimetype": "text/x-python",
   "name": "python",
   "nbconvert_exporter": "python",
   "pygments_lexer": "ipython3",
   "version": "3.10.0"
  },
  "orig_nbformat": 4
 },
 "nbformat": 4,
 "nbformat_minor": 2
}
