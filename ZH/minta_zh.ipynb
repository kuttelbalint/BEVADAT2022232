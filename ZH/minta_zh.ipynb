{
 "cells": [
  {
   "attachments": {},
   "cell_type": "markdown",
   "metadata": {},
   "source": [
    "# Minta zh, bevezetés az adattudományba"
   ]
  },
  {
   "attachments": {},
   "cell_type": "markdown",
   "metadata": {},
   "source": [
    "## 1. feladat\n",
    "1.1 Olvass be az iris.csv-t egy dataframe-be  \n",
    "1.2 Módosítsd a dataframe oszlopai nevét, úgy hogy a pont helyett aláhúzás legyen Pl.: sepal.length --> sepal_length  \n",
    "1.3 Dobd el azokat a sorokat, amikben van NaN  \n",
    "1.4 Irattasd ki a 'variety' oszlop különböző értékeit. Minden érték csak egyszer szerepeljen  \n",
    "1.5 Vizsgáld meg milyen korreláció van a Dataframe egyes oszolopai között. (df.corr) Irasd ki a legnagyobb korrelációt két különböző oszlop között  \n",
    "1.6 Módosítsd a 'variety' értékét számokra. Setosa --> 0, Versicolor --> 1, Virginica --> 2  \n",
    "1.7 Dobd el 'sepal.width' oszlopot  \n",
    "1.8 Jelenítsd meg egy kördiagramon a 'variety' eloszlását, illetve jelenítsd meg labelben az osztályok nevét is.\n",
    "1.9 A petal_length és petal_width-et jeleníts meg egy scatter plot-on. A osztályonként térjenek el a színek. Az X tengelyen a pental_width, az Y tengelyen pedig a pental_width jelenjen meg.\n",
    "\n",
    "(numpy, pandas, matplotlib)"
   ]
  },
  {
   "attachments": {},
   "cell_type": "markdown",
   "metadata": {},
   "source": [
    "## 2. feladat\n",
    "2.1 A 'variety' legyen a cél függvény, a maradék oszlopok pedig a tanító halmaz  \n",
    "2.2 Spliteld szét a dataframe-t. A tanító adathalmaz legyen 70%, a test pedig 30%. A random state pedig legyen 42  \n",
    "\n",
    "(sklearn)"
   ]
  },
  {
   "attachments": {},
   "cell_type": "markdown",
   "metadata": {},
   "source": [
    "## 3. feladat\n",
    "3.1 Taníts fel egy decision tree-t  \n",
    "3.2 Írtattasd ki a modell pontosságát  \n",
    "3.3 Jelenítsd meg a decision tree-t matplotlib segítségével  \n",
    "\n",
    "(sklearn)"
   ]
  },
  {
   "attachments": {},
   "cell_type": "markdown",
   "metadata": {},
   "source": [
    "## 4. feladat \n",
    "4.1 Értékeld a tanításodat 5 mondatban. Pl.: mivel lehet pontosítani a modellt, milyen más adatfeldolgozást lehetne csinálni."
   ]
  }
 ],
 "metadata": {
  "language_info": {
   "name": "python"
  },
  "orig_nbformat": 4
 },
 "nbformat": 4,
 "nbformat_minor": 2
}
