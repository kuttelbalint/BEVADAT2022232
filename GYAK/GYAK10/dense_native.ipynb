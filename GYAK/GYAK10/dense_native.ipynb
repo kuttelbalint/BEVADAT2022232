{
  "cells": [
    {
      "cell_type": "code",
      "execution_count": 1,
      "metadata": {
        "id": "u2KPPpxIR68N"
      },
      "outputs": [],
      "source": [
        "import numpy as np"
      ]
    },
    {
      "cell_type": "code",
      "execution_count": 7,
      "metadata": {
        "id": "cCYB_GSWR68R"
      },
      "outputs": [
        {
          "ename": "ImportError",
          "evalue": "cannot import name 'Self' from 'typing' (c:\\Users\\kutte_z7h843e\\AppData\\Local\\Programs\\Python\\Python310\\lib\\typing.py)",
          "output_type": "error",
          "traceback": [
            "\u001b[1;31m---------------------------------------------------------------------------\u001b[0m",
            "\u001b[1;31mImportError\u001b[0m                               Traceback (most recent call last)",
            "Cell \u001b[1;32mIn[7], line 2\u001b[0m\n\u001b[0;32m      1\u001b[0m \u001b[39mfrom\u001b[39;00m \u001b[39mmsilib\u001b[39;00m\u001b[39m.\u001b[39;00m\u001b[39mschema\u001b[39;00m \u001b[39mimport\u001b[39;00m SelfReg\n\u001b[1;32m----> 2\u001b[0m \u001b[39mfrom\u001b[39;00m \u001b[39mtyping\u001b[39;00m \u001b[39mimport\u001b[39;00m Self\n\u001b[0;32m      5\u001b[0m \u001b[39mclass\u001b[39;00m \u001b[39mDense\u001b[39;00m:\n\u001b[0;32m      6\u001b[0m \u001b[39m    \u001b[39m\u001b[39m\"\"\"A fully-connected NN layer.\u001b[39;00m\n\u001b[0;32m      7\u001b[0m \u001b[39m    Parameters:\u001b[39;00m\n\u001b[0;32m      8\u001b[0m \u001b[39m    -----------\u001b[39;00m\n\u001b[1;32m   (...)\u001b[0m\n\u001b[0;32m     14\u001b[0m \u001b[39m        the network.\u001b[39;00m\n\u001b[0;32m     15\u001b[0m \u001b[39m    \"\"\"\u001b[39;00m\n",
            "\u001b[1;31mImportError\u001b[0m: cannot import name 'Self' from 'typing' (c:\\Users\\kutte_z7h843e\\AppData\\Local\\Programs\\Python\\Python310\\lib\\typing.py)"
          ]
        }
      ],
      "source": [
        "from msilib.schema import SelfReg\n",
        "from typing import Self\n",
        "\n",
        "\n",
        "class Dense:\n",
        "    \"\"\"A fully-connected NN layer.\n",
        "    Parameters:\n",
        "    -----------\n",
        "    n_output: int\n",
        "        The number of neurons in the layer.\n",
        "    n_input: int\n",
        "        The expected input shape of the layer. For dense layers a single digit specifying\n",
        "        the number of features of the input. Must be specified if it is the first layer in\n",
        "        the network.\n",
        "    \"\"\"\n",
        "\n",
        "    def __init__(self, n_output, n_input=None):\n",
        "        self.layer_input = None\n",
        "        self.n_input = n_input\n",
        "        self.n_output = n_output\n",
        "        self.trainable = True\n",
        "        self.W = None\n",
        "        self.bias = None\n",
        "        self.initialize()\n",
        "\n",
        "    def initialize(self):\n",
        "        # Initialize the weights\n",
        "        np.random.seed(42)\n",
        "        self.W = np.random.normal(0.0, 1, (self.n_input, self.n_output))\n",
        "        self.bias = np.random.random(size=(self.n_output))\n",
        "\n",
        "    def forward_pass_a(self, X):\n",
        "        self.layer_input = X\n",
        "        layer_output = np.dot(X, self.W) + self.bias\n",
        "        return layer_output\n"
      ]
    },
    {
      "cell_type": "code",
      "execution_count": null,
      "metadata": {},
      "outputs": [],
      "source": []
    },
    {
      "cell_type": "code",
      "execution_count": 3,
      "metadata": {
        "id": "yj1pUR1PR68S",
        "outputId": "4dfc2582-41f3-46c1-d4c5-5b2752b5fd8e"
      },
      "outputs": [
        {
          "name": "stdout",
          "output_type": "stream",
          "text": [
            "[[ 12.27231674  -9.584845   -11.42437206]]\n"
          ]
        }
      ],
      "source": [
        "input_data = np.array([[1, 2, 3, 4, 5]])\n",
        "layer = Dense(3, n_input=5)\n",
        "\n",
        "output = layer.forward_pass_a(input_data)\n",
        "print(output)"
      ]
    },
    {
      "cell_type": "code",
      "execution_count": 4,
      "metadata": {
        "id": "aqkjwD_rR68S"
      },
      "outputs": [],
      "source": [
        "# a negatív értékeket elhagyja, a pozitivakat meghagyja\n",
        "class ReLU():\n",
        "    def forward_pass(self, x):\n",
        "        self.layer_input = x\n",
        "        return np.maximum(0, x)"
      ]
    },
    {
      "cell_type": "code",
      "execution_count": 5,
      "metadata": {
        "id": "zAbc2UPqR68T",
        "outputId": "86c621e0-8ebb-40cd-c8c7-30b0ecbb8fab"
      },
      "outputs": [
        {
          "name": "stdout",
          "output_type": "stream",
          "text": [
            "[[12.27231674  0.          0.        ]]\n"
          ]
        }
      ],
      "source": [
        "activation = ReLU()\n",
        "print(activation.forward_pass(output))"
      ]
    }
  ],
  "metadata": {
    "colab": {
      "provenance": []
    },
    "kernelspec": {
      "display_name": "Python 3.11.0 64-bit",
      "language": "python",
      "name": "python3"
    },
    "language_info": {
      "codemirror_mode": {
        "name": "ipython",
        "version": 3
      },
      "file_extension": ".py",
      "mimetype": "text/x-python",
      "name": "python",
      "nbconvert_exporter": "python",
      "pygments_lexer": "ipython3",
      "version": "3.10.0"
    },
    "orig_nbformat": 4,
    "vscode": {
      "interpreter": {
        "hash": "9cefe38f745df9e33a66570f2e5a410ba71c4ae3bf929b6ad1b474ac5f904d76"
      }
    }
  },
  "nbformat": 4,
  "nbformat_minor": 0
}
